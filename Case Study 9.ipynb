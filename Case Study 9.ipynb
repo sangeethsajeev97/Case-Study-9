{
 "cells": [
  {
   "cell_type": "code",
   "execution_count": 1,
   "id": "d659ecb1",
   "metadata": {},
   "outputs": [],
   "source": [
    "import numpy as np\n",
    "import pandas as pd\n",
    "import seaborn as sns\n",
    "import matplotlib.pyplot as plt"
   ]
  },
  {
   "cell_type": "code",
   "execution_count": 2,
   "id": "b3a978c1",
   "metadata": {},
   "outputs": [
    {
     "data": {
      "text/html": [
       "<div>\n",
       "<style scoped>\n",
       "    .dataframe tbody tr th:only-of-type {\n",
       "        vertical-align: middle;\n",
       "    }\n",
       "\n",
       "    .dataframe tbody tr th {\n",
       "        vertical-align: top;\n",
       "    }\n",
       "\n",
       "    .dataframe thead th {\n",
       "        text-align: right;\n",
       "    }\n",
       "</style>\n",
       "<table border=\"1\" class=\"dataframe\">\n",
       "  <thead>\n",
       "    <tr style=\"text-align: right;\">\n",
       "      <th></th>\n",
       "      <th>Alcohol</th>\n",
       "      <th>Malic_Acid</th>\n",
       "      <th>Ash</th>\n",
       "      <th>Ash_Alcanity</th>\n",
       "      <th>Magnesium</th>\n",
       "      <th>Total_Phenols</th>\n",
       "      <th>Flavanoids</th>\n",
       "      <th>Nonflavanoid_Phenols</th>\n",
       "      <th>Proanthocyanins</th>\n",
       "      <th>Color_Intensity</th>\n",
       "      <th>Hue</th>\n",
       "      <th>OD280</th>\n",
       "      <th>Proline</th>\n",
       "    </tr>\n",
       "  </thead>\n",
       "  <tbody>\n",
       "    <tr>\n",
       "      <th>0</th>\n",
       "      <td>14.23</td>\n",
       "      <td>1.71</td>\n",
       "      <td>2.43</td>\n",
       "      <td>15.6</td>\n",
       "      <td>127</td>\n",
       "      <td>2.80</td>\n",
       "      <td>3.06</td>\n",
       "      <td>0.28</td>\n",
       "      <td>2.29</td>\n",
       "      <td>5.64</td>\n",
       "      <td>1.04</td>\n",
       "      <td>3.92</td>\n",
       "      <td>1065</td>\n",
       "    </tr>\n",
       "    <tr>\n",
       "      <th>1</th>\n",
       "      <td>13.20</td>\n",
       "      <td>1.78</td>\n",
       "      <td>2.14</td>\n",
       "      <td>11.2</td>\n",
       "      <td>100</td>\n",
       "      <td>2.65</td>\n",
       "      <td>2.76</td>\n",
       "      <td>0.26</td>\n",
       "      <td>1.28</td>\n",
       "      <td>4.38</td>\n",
       "      <td>1.05</td>\n",
       "      <td>3.40</td>\n",
       "      <td>1050</td>\n",
       "    </tr>\n",
       "    <tr>\n",
       "      <th>2</th>\n",
       "      <td>13.16</td>\n",
       "      <td>2.36</td>\n",
       "      <td>2.67</td>\n",
       "      <td>18.6</td>\n",
       "      <td>101</td>\n",
       "      <td>2.80</td>\n",
       "      <td>3.24</td>\n",
       "      <td>0.30</td>\n",
       "      <td>2.81</td>\n",
       "      <td>5.68</td>\n",
       "      <td>1.03</td>\n",
       "      <td>3.17</td>\n",
       "      <td>1185</td>\n",
       "    </tr>\n",
       "    <tr>\n",
       "      <th>3</th>\n",
       "      <td>14.37</td>\n",
       "      <td>1.95</td>\n",
       "      <td>2.50</td>\n",
       "      <td>16.8</td>\n",
       "      <td>113</td>\n",
       "      <td>3.85</td>\n",
       "      <td>3.49</td>\n",
       "      <td>0.24</td>\n",
       "      <td>2.18</td>\n",
       "      <td>7.80</td>\n",
       "      <td>0.86</td>\n",
       "      <td>3.45</td>\n",
       "      <td>1480</td>\n",
       "    </tr>\n",
       "    <tr>\n",
       "      <th>4</th>\n",
       "      <td>13.24</td>\n",
       "      <td>2.59</td>\n",
       "      <td>2.87</td>\n",
       "      <td>21.0</td>\n",
       "      <td>118</td>\n",
       "      <td>2.80</td>\n",
       "      <td>2.69</td>\n",
       "      <td>0.39</td>\n",
       "      <td>1.82</td>\n",
       "      <td>4.32</td>\n",
       "      <td>1.04</td>\n",
       "      <td>2.93</td>\n",
       "      <td>735</td>\n",
       "    </tr>\n",
       "  </tbody>\n",
       "</table>\n",
       "</div>"
      ],
      "text/plain": [
       "   Alcohol  Malic_Acid   Ash  Ash_Alcanity  Magnesium  Total_Phenols  \\\n",
       "0    14.23        1.71  2.43          15.6        127           2.80   \n",
       "1    13.20        1.78  2.14          11.2        100           2.65   \n",
       "2    13.16        2.36  2.67          18.6        101           2.80   \n",
       "3    14.37        1.95  2.50          16.8        113           3.85   \n",
       "4    13.24        2.59  2.87          21.0        118           2.80   \n",
       "\n",
       "   Flavanoids  Nonflavanoid_Phenols  Proanthocyanins  Color_Intensity   Hue  \\\n",
       "0        3.06                  0.28             2.29             5.64  1.04   \n",
       "1        2.76                  0.26             1.28             4.38  1.05   \n",
       "2        3.24                  0.30             2.81             5.68  1.03   \n",
       "3        3.49                  0.24             2.18             7.80  0.86   \n",
       "4        2.69                  0.39             1.82             4.32  1.04   \n",
       "\n",
       "   OD280  Proline  \n",
       "0   3.92     1065  \n",
       "1   3.40     1050  \n",
       "2   3.17     1185  \n",
       "3   3.45     1480  \n",
       "4   2.93      735  "
      ]
     },
     "execution_count": 2,
     "metadata": {},
     "output_type": "execute_result"
    }
   ],
   "source": [
    "data= pd.read_csv('D:\\DSA\\Python\\Case Study 9\\Wine.csv')\n",
    "data.head()"
   ]
  },
  {
   "cell_type": "code",
   "execution_count": 3,
   "id": "69df08a6",
   "metadata": {
    "scrolled": true
   },
   "outputs": [
    {
     "name": "stdout",
     "output_type": "stream",
     "text": [
      "Variable   Type         Data/Info\n",
      "---------------------------------\n",
      "data       DataFrame         Alcohol  Malic_Acid <...>\\n[178 rows x 13 columns]\n",
      "np         module       <module 'numpy' from 'C:\\<...>ges\\\\numpy\\\\__init__.py'>\n",
      "pd         module       <module 'pandas' from 'C:<...>es\\\\pandas\\\\__init__.py'>\n",
      "plt        module       <module 'matplotlib.pyplo<...>\\\\matplotlib\\\\pyplot.py'>\n",
      "sns        module       <module 'seaborn' from 'C<...>s\\\\seaborn\\\\__init__.py'>\n"
     ]
    }
   ],
   "source": [
    "%whos"
   ]
  },
  {
   "cell_type": "code",
   "execution_count": 4,
   "id": "fdcbfebd",
   "metadata": {},
   "outputs": [
    {
     "data": {
      "text/plain": [
       "Alcohol                 float64\n",
       "Malic_Acid              float64\n",
       "Ash                     float64\n",
       "Ash_Alcanity            float64\n",
       "Magnesium                 int64\n",
       "Total_Phenols           float64\n",
       "Flavanoids              float64\n",
       "Nonflavanoid_Phenols    float64\n",
       "Proanthocyanins         float64\n",
       "Color_Intensity         float64\n",
       "Hue                     float64\n",
       "OD280                   float64\n",
       "Proline                   int64\n",
       "dtype: object"
      ]
     },
     "execution_count": 4,
     "metadata": {},
     "output_type": "execute_result"
    }
   ],
   "source": [
    "data.dtypes"
   ]
  },
  {
   "cell_type": "markdown",
   "id": "21a1b73c",
   "metadata": {},
   "source": [
    "# Kmeans Clustering"
   ]
  },
  {
   "cell_type": "code",
   "execution_count": 16,
   "id": "294ff841",
   "metadata": {},
   "outputs": [
    {
     "data": {
      "text/html": [
       "<div>\n",
       "<style scoped>\n",
       "    .dataframe tbody tr th:only-of-type {\n",
       "        vertical-align: middle;\n",
       "    }\n",
       "\n",
       "    .dataframe tbody tr th {\n",
       "        vertical-align: top;\n",
       "    }\n",
       "\n",
       "    .dataframe thead th {\n",
       "        text-align: right;\n",
       "    }\n",
       "</style>\n",
       "<table border=\"1\" class=\"dataframe\">\n",
       "  <thead>\n",
       "    <tr style=\"text-align: right;\">\n",
       "      <th></th>\n",
       "      <th>Alcohol</th>\n",
       "      <th>Malic_Acid</th>\n",
       "      <th>Ash</th>\n",
       "      <th>Ash_Alcanity</th>\n",
       "      <th>Magnesium</th>\n",
       "      <th>Total_Phenols</th>\n",
       "      <th>Flavanoids</th>\n",
       "      <th>Nonflavanoid_Phenols</th>\n",
       "      <th>Proanthocyanins</th>\n",
       "      <th>Color_Intensity</th>\n",
       "      <th>Hue</th>\n",
       "      <th>OD280</th>\n",
       "      <th>Proline</th>\n",
       "    </tr>\n",
       "  </thead>\n",
       "  <tbody>\n",
       "    <tr>\n",
       "      <th>0</th>\n",
       "      <td>0.013264</td>\n",
       "      <td>0.001594</td>\n",
       "      <td>0.002265</td>\n",
       "      <td>0.014542</td>\n",
       "      <td>0.118383</td>\n",
       "      <td>0.002610</td>\n",
       "      <td>0.002852</td>\n",
       "      <td>0.000261</td>\n",
       "      <td>0.002135</td>\n",
       "      <td>0.005257</td>\n",
       "      <td>0.000969</td>\n",
       "      <td>0.003654</td>\n",
       "      <td>0.992738</td>\n",
       "    </tr>\n",
       "    <tr>\n",
       "      <th>1</th>\n",
       "      <td>0.012513</td>\n",
       "      <td>0.001687</td>\n",
       "      <td>0.002029</td>\n",
       "      <td>0.010617</td>\n",
       "      <td>0.094794</td>\n",
       "      <td>0.002512</td>\n",
       "      <td>0.002616</td>\n",
       "      <td>0.000246</td>\n",
       "      <td>0.001213</td>\n",
       "      <td>0.004152</td>\n",
       "      <td>0.000995</td>\n",
       "      <td>0.003223</td>\n",
       "      <td>0.995336</td>\n",
       "    </tr>\n",
       "    <tr>\n",
       "      <th>2</th>\n",
       "      <td>0.011063</td>\n",
       "      <td>0.001984</td>\n",
       "      <td>0.002245</td>\n",
       "      <td>0.015636</td>\n",
       "      <td>0.084906</td>\n",
       "      <td>0.002354</td>\n",
       "      <td>0.002724</td>\n",
       "      <td>0.000252</td>\n",
       "      <td>0.002362</td>\n",
       "      <td>0.004775</td>\n",
       "      <td>0.000866</td>\n",
       "      <td>0.002665</td>\n",
       "      <td>0.996176</td>\n",
       "    </tr>\n",
       "    <tr>\n",
       "      <th>3</th>\n",
       "      <td>0.009680</td>\n",
       "      <td>0.001314</td>\n",
       "      <td>0.001684</td>\n",
       "      <td>0.011317</td>\n",
       "      <td>0.076119</td>\n",
       "      <td>0.002593</td>\n",
       "      <td>0.002351</td>\n",
       "      <td>0.000162</td>\n",
       "      <td>0.001468</td>\n",
       "      <td>0.005254</td>\n",
       "      <td>0.000579</td>\n",
       "      <td>0.002324</td>\n",
       "      <td>0.996961</td>\n",
       "    </tr>\n",
       "    <tr>\n",
       "      <th>4</th>\n",
       "      <td>0.017775</td>\n",
       "      <td>0.003477</td>\n",
       "      <td>0.003853</td>\n",
       "      <td>0.028193</td>\n",
       "      <td>0.158418</td>\n",
       "      <td>0.003759</td>\n",
       "      <td>0.003611</td>\n",
       "      <td>0.000524</td>\n",
       "      <td>0.002443</td>\n",
       "      <td>0.005800</td>\n",
       "      <td>0.001396</td>\n",
       "      <td>0.003934</td>\n",
       "      <td>0.986753</td>\n",
       "    </tr>\n",
       "  </tbody>\n",
       "</table>\n",
       "</div>"
      ],
      "text/plain": [
       "    Alcohol  Malic_Acid       Ash  Ash_Alcanity  Magnesium  Total_Phenols  \\\n",
       "0  0.013264    0.001594  0.002265      0.014542   0.118383       0.002610   \n",
       "1  0.012513    0.001687  0.002029      0.010617   0.094794       0.002512   \n",
       "2  0.011063    0.001984  0.002245      0.015636   0.084906       0.002354   \n",
       "3  0.009680    0.001314  0.001684      0.011317   0.076119       0.002593   \n",
       "4  0.017775    0.003477  0.003853      0.028193   0.158418       0.003759   \n",
       "\n",
       "   Flavanoids  Nonflavanoid_Phenols  Proanthocyanins  Color_Intensity  \\\n",
       "0    0.002852              0.000261         0.002135         0.005257   \n",
       "1    0.002616              0.000246         0.001213         0.004152   \n",
       "2    0.002724              0.000252         0.002362         0.004775   \n",
       "3    0.002351              0.000162         0.001468         0.005254   \n",
       "4    0.003611              0.000524         0.002443         0.005800   \n",
       "\n",
       "        Hue     OD280   Proline  \n",
       "0  0.000969  0.003654  0.992738  \n",
       "1  0.000995  0.003223  0.995336  \n",
       "2  0.000866  0.002665  0.996176  \n",
       "3  0.000579  0.002324  0.996961  \n",
       "4  0.001396  0.003934  0.986753  "
      ]
     },
     "execution_count": 16,
     "metadata": {},
     "output_type": "execute_result"
    }
   ],
   "source": [
    "from sklearn.preprocessing import Normalizer\n",
    "data1=pd.DataFrame(Normalizer().fit_transform(data),columns=data.columns,index=data.index)\n",
    "data1.head()"
   ]
  },
  {
   "cell_type": "code",
   "execution_count": 21,
   "id": "6f335add",
   "metadata": {},
   "outputs": [
    {
     "data": {
      "text/plain": [
       "array([[0.01326447, 0.99273809],\n",
       "       [0.0125128 , 0.9953364 ],\n",
       "       [0.01106301, 0.99617561],\n",
       "       [0.00967995, 0.99696125],\n",
       "       [0.01777498, 0.9867531 ],\n",
       "       [0.00976281, 0.99690698],\n",
       "       [0.01112266, 0.99709707],\n",
       "       [0.01080823, 0.99549461],\n",
       "       [0.01412756, 0.99550252],\n",
       "       [0.01320196, 0.99538613],\n",
       "       [0.00931403, 0.99745985],\n",
       "       [0.0109992 , 0.99709469],\n",
       "       [0.01039155, 0.99758861],\n",
       "       [0.01278407, 0.9967244 ],\n",
       "       [0.00927438, 0.99773802],\n",
       "       [0.01036504, 0.99619967],\n",
       "       [0.0111208 , 0.99542831],\n",
       "       [0.01217286, 0.99460101],\n",
       "       [0.00842814, 0.9978349 ],\n",
       "       [0.01598664, 0.9903745 ],\n",
       "       [0.01778738, 0.98678227],\n",
       "       [0.01663874, 0.9908606 ],\n",
       "       [0.01318057, 0.99503213],\n",
       "       [0.01260177, 0.99539245],\n",
       "       [0.01586723, 0.99317124],\n",
       "       [0.01554091, 0.98842574],\n",
       "       [0.01116929, 0.99681133],\n",
       "       [0.01032103, 0.99718188],\n",
       "       [0.01505025, 0.99286089],\n",
       "       [0.0134848 , 0.99548974],\n",
       "       [0.0106495 , 0.99669413],\n",
       "       [0.0089406 , 0.99742357],\n",
       "       [0.01373886, 0.99425981],\n",
       "       [0.01107631, 0.99413123],\n",
       "       [0.0122731 , 0.99474768],\n",
       "       [0.01456068, 0.99375588],\n",
       "       [0.01496987, 0.99197941],\n",
       "       [0.01176119, 0.99587052],\n",
       "       [0.01275223, 0.9952007 ],\n",
       "       [0.01844352, 0.98572988],\n",
       "       [0.01686791, 0.98893692],\n",
       "       [0.01290425, 0.99596559],\n",
       "       [0.01261963, 0.9955685 ],\n",
       "       [0.01923986, 0.98814973],\n",
       "       [0.01463431, 0.99244161],\n",
       "       [0.01308492, 0.99449094],\n",
       "       [0.01343765, 0.99520877],\n",
       "       [0.01403427, 0.9945146 ],\n",
       "       [0.01323585, 0.9950354 ],\n",
       "       [0.01102094, 0.9961534 ],\n",
       "       [0.0113099 , 0.99665827],\n",
       "       [0.01090085, 0.99707669],\n",
       "       [0.01156127, 0.99550716],\n",
       "       [0.00997823, 0.99637364],\n",
       "       [0.01287969, 0.99362994],\n",
       "       [0.01203947, 0.99441069],\n",
       "       [0.01454831, 0.99239498],\n",
       "       [0.01042925, 0.99662531],\n",
       "       [0.01063774, 0.99631896],\n",
       "       [0.02344314, 0.98548352],\n",
       "       [0.01792734, 0.98869335],\n",
       "       [0.02738837, 0.97506071],\n",
       "       [0.02144641, 0.98838594],\n",
       "       [0.02879519, 0.97768616],\n",
       "       [0.03283411, 0.95777386],\n",
       "       [0.01804692, 0.98915212],\n",
       "       [0.0257827 , 0.98725501],\n",
       "       [0.02394971, 0.98741741],\n",
       "       [0.01759079, 0.98898747],\n",
       "       [0.01663433, 0.97816957],\n",
       "       [0.01402305, 0.99268145],\n",
       "       [0.03300316, 0.97628404],\n",
       "       [0.02805857, 0.98173785],\n",
       "       [0.01305101, 0.98962613],\n",
       "       [0.0134067 , 0.9931716 ],\n",
       "       [0.02653984, 0.97418964],\n",
       "       [0.03242052, 0.97535268],\n",
       "       [0.02308551, 0.97489488],\n",
       "       [0.01617051, 0.98360792],\n",
       "       [0.02675509, 0.97540209],\n",
       "       [0.0411063 , 0.95229588],\n",
       "       [0.01767765, 0.992283  ],\n",
       "       [0.01901158, 0.99149784],\n",
       "       [0.024968  , 0.98532726],\n",
       "       [0.0223858 , 0.98316009],\n",
       "       [0.02746437, 0.97545129],\n",
       "       [0.0241362 , 0.98251782],\n",
       "       [0.02045319, 0.98666891],\n",
       "       [0.016977  , 0.99178334],\n",
       "       [0.01919011, 0.99286572],\n",
       "       [0.0247888 , 0.98498534],\n",
       "       [0.02615131, 0.98067429],\n",
       "       [0.02527691, 0.98597863],\n",
       "       [0.04043903, 0.95421636],\n",
       "       [0.03233597, 0.96006118],\n",
       "       [0.01310981, 0.98507557],\n",
       "       [0.01846185, 0.97702419],\n",
       "       [0.02813194, 0.97969659],\n",
       "       [0.01856629, 0.99060231],\n",
       "       [0.02953862, 0.97580803],\n",
       "       [0.01684941, 0.99032151],\n",
       "       [0.02213202, 0.98715814],\n",
       "       [0.02745029, 0.97432965],\n",
       "       [0.02784689, 0.9777038 ],\n",
       "       [0.01845651, 0.99142875],\n",
       "       [0.03779242, 0.95850342],\n",
       "       [0.02370496, 0.9869002 ],\n",
       "       [0.02565112, 0.98409956],\n",
       "       [0.03747072, 0.95669918],\n",
       "       [0.01690222, 0.98996622],\n",
       "       [0.02001404, 0.98149149],\n",
       "       [0.03708053, 0.96255378],\n",
       "       [0.01908621, 0.98514708],\n",
       "       [0.02572624, 0.97854414],\n",
       "       [0.03058729, 0.97484328],\n",
       "       [0.02648087, 0.97712716],\n",
       "       [0.0234983 , 0.98406591],\n",
       "       [0.03426522, 0.95181161],\n",
       "       [0.0335079 , 0.97611105],\n",
       "       [0.02101039, 0.9874881 ],\n",
       "       [0.01809441, 0.98768589],\n",
       "       [0.02402934, 0.96657798],\n",
       "       [0.03266838, 0.9600611 ],\n",
       "       [0.03341744, 0.97307503],\n",
       "       [0.03046819, 0.97539292],\n",
       "       [0.03108803, 0.9735935 ],\n",
       "       [0.03421645, 0.96896146],\n",
       "       [0.02476692, 0.97891296],\n",
       "       [0.0349183 , 0.96540503],\n",
       "       [0.02054366, 0.98964499],\n",
       "       [0.02002774, 0.98114131],\n",
       "       [0.02382196, 0.98025149],\n",
       "       [0.02250511, 0.98382998],\n",
       "       [0.02082499, 0.98385771],\n",
       "       [0.0190724 , 0.99097208],\n",
       "       [0.01795552, 0.9904037 ],\n",
       "       [0.01687512, 0.9918439 ],\n",
       "       [0.02388101, 0.98154187],\n",
       "       [0.02297475, 0.987795  ],\n",
       "       [0.02142699, 0.98457339],\n",
       "       [0.02126053, 0.98656735],\n",
       "       [0.01700907, 0.99304475],\n",
       "       [0.02552358, 0.98167623],\n",
       "       [0.02439897, 0.98527422],\n",
       "       [0.01420051, 0.99113737],\n",
       "       [0.01572967, 0.99206868],\n",
       "       [0.03278148, 0.98013796],\n",
       "       [0.02038131, 0.98976837],\n",
       "       [0.02027278, 0.98928738],\n",
       "       [0.02326758, 0.97837683],\n",
       "       [0.02617607, 0.96948414],\n",
       "       [0.02590696, 0.97227052],\n",
       "       [0.02969014, 0.96249514],\n",
       "       [0.01938301, 0.98892906],\n",
       "       [0.01939201, 0.98655702],\n",
       "       [0.01800507, 0.99116724],\n",
       "       [0.02830945, 0.98183076],\n",
       "       [0.0140539 , 0.99336816],\n",
       "       [0.0214668 , 0.98801173],\n",
       "       [0.02149798, 0.98877944],\n",
       "       [0.02340729, 0.98477271],\n",
       "       [0.01987407, 0.98717067],\n",
       "       [0.02214059, 0.9821119 ],\n",
       "       [0.01895613, 0.98729855],\n",
       "       [0.02214786, 0.98845681],\n",
       "       [0.02599774, 0.98461925],\n",
       "       [0.01909387, 0.98663516],\n",
       "       [0.01854968, 0.99114899],\n",
       "       [0.017918  , 0.98958028],\n",
       "       [0.02091809, 0.98346251],\n",
       "       [0.02348426, 0.98171922],\n",
       "       [0.02668804, 0.98225373],\n",
       "       [0.02123637, 0.9898308 ],\n",
       "       [0.01836445, 0.99122493],\n",
       "       [0.01769147, 0.99019398],\n",
       "       [0.01572274, 0.98933625],\n",
       "       [0.01551366, 0.98948177],\n",
       "       [0.02483405, 0.98422273]])"
      ]
     },
     "execution_count": 21,
     "metadata": {},
     "output_type": "execute_result"
    }
   ],
   "source": [
    "X= data1.iloc[:,[0,12]].values\n",
    "X"
   ]
  },
  {
   "cell_type": "code",
   "execution_count": 22,
   "id": "968dccea",
   "metadata": {
    "scrolled": true
   },
   "outputs": [
    {
     "data": {
      "text/plain": [
       "Alcohol                 0\n",
       "Malic_Acid              0\n",
       "Ash                     0\n",
       "Ash_Alcanity            0\n",
       "Magnesium               0\n",
       "Total_Phenols           0\n",
       "Flavanoids              0\n",
       "Nonflavanoid_Phenols    0\n",
       "Proanthocyanins         0\n",
       "Color_Intensity         0\n",
       "Hue                     0\n",
       "OD280                   0\n",
       "Proline                 0\n",
       "dtype: int64"
      ]
     },
     "execution_count": 22,
     "metadata": {},
     "output_type": "execute_result"
    }
   ],
   "source": [
    "data.isnull().sum()"
   ]
  },
  {
   "cell_type": "code",
   "execution_count": 23,
   "id": "78ba56b5",
   "metadata": {},
   "outputs": [],
   "source": [
    "from sklearn.cluster import KMeans"
   ]
  },
  {
   "cell_type": "code",
   "execution_count": 27,
   "id": "277cd573",
   "metadata": {},
   "outputs": [
    {
     "name": "stderr",
     "output_type": "stream",
     "text": [
      "C:\\Users\\Adrash\\anaconda3\\lib\\site-packages\\sklearn\\cluster\\_kmeans.py:881: UserWarning: KMeans is known to have a memory leak on Windows with MKL, when there are less chunks than available threads. You can avoid it by setting the environment variable OMP_NUM_THREADS=1.\n",
      "  warnings.warn(\n"
     ]
    },
    {
     "name": "stdout",
     "output_type": "stream",
     "text": [
      "0.027445263920641897\n",
      "0.010147681586112388\n",
      "0.0053113810540834075\n",
      "0.002952394461400465\n",
      "0.00201165177247789\n",
      "0.0017131533924321365\n",
      "0.0015098283348459847\n",
      "0.0013331418377212246\n",
      "0.0011991674229457\n",
      "0.0010411893788322326\n"
     ]
    },
    {
     "data": {
      "image/png": "[encoded data removed]",
      "text/plain": [
       "<Figure size 432x288 with 1 Axes>"
      ]
     },
     "metadata": {
      "needs_background": "light"
     },
     "output_type": "display_data"
    }
   ],
   "source": [
    "wcss=[]\n",
    "for i in range(1,11):\n",
    "    kmeans= KMeans(n_clusters=i,init='k-means++',random_state=42)\n",
    "    kmeans.fit(X)\n",
    "    wcss.append(kmeans.inertia_)\n",
    "    print(kmeans.inertia_)\n",
    "    \n",
    "plt.plot(range(1,11),wcss)\n",
    "plt.title('elbow method')\n",
    "plt.xlabel('Number of clusters')\n",
    "plt.ylabel('wcss')\n",
    "plt.show()"
   ]
  },
  {
   "cell_type": "markdown",
   "id": "01da5380",
   "metadata": {},
   "source": [
    "Least sum of square is observed at n=5"
   ]
  },
  {
   "cell_type": "code",
   "execution_count": 31,
   "id": "930d776c",
   "metadata": {},
   "outputs": [
    {
     "data": {
      "text/plain": [
       "array([3, 3, 3, 3, 0, 3, 3, 3, 3, 3, 3, 3, 3, 3, 3, 3, 3, 3, 3, 0, 0, 0,\n",
       "       3, 3, 0, 0, 3, 3, 3, 3, 3, 3, 3, 3, 3, 3, 0, 3, 3, 0, 0, 3, 3, 0,\n",
       "       3, 3, 3, 3, 3, 3, 3, 3, 3, 3, 3, 3, 3, 3, 3, 2, 0, 1, 0, 1, 4, 0,\n",
       "       2, 2, 0, 2, 3, 1, 2, 0, 3, 1, 1, 1, 0, 1, 4, 0, 0, 2, 2, 1, 2, 0,\n",
       "       0, 0, 2, 2, 2, 4, 4, 0, 2, 1, 0, 1, 0, 2, 1, 1, 0, 4, 2, 2, 4, 0,\n",
       "       2, 4, 0, 1, 1, 1, 2, 4, 1, 0, 0, 1, 4, 1, 1, 1, 1, 2, 4, 0, 2, 2,\n",
       "       2, 2, 0, 0, 0, 2, 2, 2, 2, 0, 2, 2, 0, 0, 1, 0, 0, 2, 1, 1, 4, 0,\n",
       "       0, 0, 2, 3, 0, 0, 2, 0, 2, 0, 0, 2, 0, 0, 0, 2, 2, 2, 0, 0, 0, 0,\n",
       "       0, 2])"
      ]
     },
     "execution_count": 31,
     "metadata": {},
     "output_type": "execute_result"
    }
   ],
   "source": [
    "kmeans= KMeans(n_clusters=5,init='k-means++',random_state=42)\n",
    "y_kmeans=kmeans.fit_predict(X)\n",
    "type(X)\n",
    "y_kmeans"
   ]
  },
  {
   "cell_type": "code",
   "execution_count": 36,
   "id": "d71bc84c",
   "metadata": {},
   "outputs": [
    {
     "data": {
      "text/plain": [
       "<matplotlib.legend.Legend at 0x18d0083ee50>"
      ]
     },
     "execution_count": 36,
     "metadata": {},
     "output_type": "execute_result"
    },
    {
     "data": {
      "image/png": "[encoded data removed]",
      "text/plain": [
       "<Figure size 432x288 with 1 Axes>"
      ]
     },
     "metadata": {
      "needs_background": "light"
     },
     "output_type": "display_data"
    }
   ],
   "source": [
    "plt.scatter(X[y_kmeans==0,0],X[y_kmeans==0,1],s=90,c='red',label='Cluster 1')\n",
    "plt.scatter(X[y_kmeans==1,0],X[y_kmeans==1,1],s=90,c='cyan',label='Cluster 2')\n",
    "plt.scatter(X[y_kmeans==2,0],X[y_kmeans==2,1],s=90,c='green',label='Cluster 3')\n",
    "plt.scatter(X[y_kmeans==3,0],X[y_kmeans==3,1],s=90,c='yellow',label='Cluster 4')\n",
    "plt.scatter(X[y_kmeans==4,0],X[y_kmeans==4,1],s=90,c='blue',label='Cluster 5')\n",
    "plt.title('Clusters')\n",
    "plt.xlabel('alcohol')\n",
    "plt.ylabel('malic acid')\n",
    "plt.legend()"
   ]
  },
  {
   "cell_type": "markdown",
   "id": "eb799f9a",
   "metadata": {},
   "source": [
    "# Hierarchial Clustering"
   ]
  },
  {
   "cell_type": "code",
   "execution_count": 40,
   "id": "970a11c4",
   "metadata": {
    "scrolled": true
   },
   "outputs": [
    {
     "data": {
      "image/png": "[encoded data removed]",
      "text/plain": [
       "<Figure size 1008x360 with 1 Axes>"
      ]
     },
     "metadata": {
      "needs_background": "light"
     },
     "output_type": "display_data"
    }
   ],
   "source": [
    "from scipy.cluster.hierarchy import dendrogram,linkage\n",
    "linked=linkage(data,method='ward')\n",
    "plt.figure(figsize=(14,5))\n",
    "plt.title(\"Dendrogram\")\n",
    "plt.hlines(0.2, 0, 5000, linestyles=\"dashed\")\n",
    "dendrogram(linked,orientation='top',distance_sort='ascending',show_leaf_counts=True)\n",
    "plt.show()"
   ]
  },
  {
   "cell_type": "markdown",
   "id": "b3f5cb67",
   "metadata": {},
   "source": [
    "From the above dendrogram plot, the number of clusters using horizontal line we identify the optimun cluster value as 5."
   ]
  },
  {
   "cell_type": "code",
   "execution_count": 43,
   "id": "22032c5e",
   "metadata": {},
   "outputs": [
    {
     "data": {
      "text/plain": [
       "array([3, 3, 3, 1, 0, 1, 1, 1, 3, 3, 1, 1, 1, 3, 1, 1, 1, 3, 1, 0, 0, 0,\n",
       "       3, 3, 0, 0, 3, 1, 0, 3, 1, 1, 3, 1, 3, 0, 0, 3, 3, 0, 0, 3, 3, 0,\n",
       "       0, 3, 3, 3, 3, 1, 3, 1, 3, 1, 3, 3, 3, 1, 1, 2, 0, 2, 0, 4, 4, 0,\n",
       "       2, 2, 0, 0, 0, 4, 2, 3, 0, 4, 4, 2, 0, 2, 4, 0, 0, 2, 2, 2, 2, 2,\n",
       "       0, 0, 2, 2, 2, 4, 4, 3, 0, 4, 0, 4, 0, 2, 4, 4, 0, 4, 2, 2, 4, 0,\n",
       "       2, 4, 2, 4, 4, 4, 2, 4, 4, 2, 0, 2, 4, 4, 4, 4, 4, 2, 4, 2, 0, 2,\n",
       "       2, 2, 0, 0, 0, 2, 2, 2, 2, 0, 2, 2, 0, 0, 4, 0, 0, 2, 2, 2, 4, 0,\n",
       "       0, 0, 2, 0, 0, 0, 2, 0, 2, 0, 0, 2, 0, 0, 0, 0, 2, 2, 0, 0, 0, 0,\n",
       "       0, 2], dtype=int64)"
      ]
     },
     "execution_count": 43,
     "metadata": {},
     "output_type": "execute_result"
    }
   ],
   "source": [
    "from sklearn.cluster import AgglomerativeClustering\n",
    "model_agglo = AgglomerativeClustering(n_clusters= 5, affinity= \"euclidean\", linkage = \"ward\").fit(data)\n",
    "clusters = model_agglo.labels_\n",
    "clusters"
   ]
  },
  {
   "cell_type": "code",
   "execution_count": 46,
   "id": "5cab250c",
   "metadata": {},
   "outputs": [
    {
     "data": {
      "image/png": "[encoded data removed]",
      "text/plain": [
       "<Figure size 432x288 with 1 Axes>"
      ]
     },
     "metadata": {
      "needs_background": "light"
     },
     "output_type": "display_data"
    }
   ],
   "source": [
    "plt.title(\"Alcohol and Malic_Acid\")\n",
    "plt.scatter(data[\"Alcohol\"], data[\"Malic_Acid\"], c = clusters)\n",
    "plt.xlabel(\"Alchol\")\n",
    "plt.ylabel(\"Malic_Acid\")\n",
    "plt.show()"
   ]
  },
  {
   "cell_type": "markdown",
   "id": "85345d5f",
   "metadata": {},
   "source": [
    "# Principal Components Analysis"
   ]
  },
  {
   "cell_type": "code",
   "execution_count": 49,
   "id": "97550f9e",
   "metadata": {},
   "outputs": [
    {
     "data": {
      "text/html": [
       "<div>\n",
       "<style scoped>\n",
       "    .dataframe tbody tr th:only-of-type {\n",
       "        vertical-align: middle;\n",
       "    }\n",
       "\n",
       "    .dataframe tbody tr th {\n",
       "        vertical-align: top;\n",
       "    }\n",
       "\n",
       "    .dataframe thead th {\n",
       "        text-align: right;\n",
       "    }\n",
       "</style>\n",
       "<table border=\"1\" class=\"dataframe\">\n",
       "  <thead>\n",
       "    <tr style=\"text-align: right;\">\n",
       "      <th></th>\n",
       "      <th>Alcohol</th>\n",
       "      <th>Malic_Acid</th>\n",
       "      <th>Ash</th>\n",
       "      <th>Ash_Alcanity</th>\n",
       "      <th>Magnesium</th>\n",
       "      <th>Total_Phenols</th>\n",
       "      <th>Flavanoids</th>\n",
       "      <th>Nonflavanoid_Phenols</th>\n",
       "      <th>Proanthocyanins</th>\n",
       "      <th>Color_Intensity</th>\n",
       "      <th>Hue</th>\n",
       "      <th>OD280</th>\n",
       "      <th>Proline</th>\n",
       "    </tr>\n",
       "  </thead>\n",
       "  <tbody>\n",
       "    <tr>\n",
       "      <th>count</th>\n",
       "      <td>1.780000e+02</td>\n",
       "      <td>1.780000e+02</td>\n",
       "      <td>1.780000e+02</td>\n",
       "      <td>1.780000e+02</td>\n",
       "      <td>1.780000e+02</td>\n",
       "      <td>1.780000e+02</td>\n",
       "      <td>1.780000e+02</td>\n",
       "      <td>1.780000e+02</td>\n",
       "      <td>1.780000e+02</td>\n",
       "      <td>1.780000e+02</td>\n",
       "      <td>1.780000e+02</td>\n",
       "      <td>1.780000e+02</td>\n",
       "      <td>1.780000e+02</td>\n",
       "    </tr>\n",
       "    <tr>\n",
       "      <th>mean</th>\n",
       "      <td>1.609200e-16</td>\n",
       "      <td>1.097749e-16</td>\n",
       "      <td>-2.139362e-16</td>\n",
       "      <td>-1.035377e-16</td>\n",
       "      <td>-2.759965e-16</td>\n",
       "      <td>1.295780e-16</td>\n",
       "      <td>1.553065e-16</td>\n",
       "      <td>-1.571776e-16</td>\n",
       "      <td>-1.108859e-16</td>\n",
       "      <td>1.921060e-16</td>\n",
       "      <td>-7.422278e-17</td>\n",
       "      <td>2.744372e-17</td>\n",
       "      <td>4.812006e-16</td>\n",
       "    </tr>\n",
       "    <tr>\n",
       "      <th>std</th>\n",
       "      <td>1.002821e+00</td>\n",
       "      <td>1.002821e+00</td>\n",
       "      <td>1.002821e+00</td>\n",
       "      <td>1.002821e+00</td>\n",
       "      <td>1.002821e+00</td>\n",
       "      <td>1.002821e+00</td>\n",
       "      <td>1.002821e+00</td>\n",
       "      <td>1.002821e+00</td>\n",
       "      <td>1.002821e+00</td>\n",
       "      <td>1.002821e+00</td>\n",
       "      <td>1.002821e+00</td>\n",
       "      <td>1.002821e+00</td>\n",
       "      <td>1.002821e+00</td>\n",
       "    </tr>\n",
       "    <tr>\n",
       "      <th>min</th>\n",
       "      <td>-1.578276e+00</td>\n",
       "      <td>-1.110345e+00</td>\n",
       "      <td>-1.545862e+00</td>\n",
       "      <td>-1.598474e+00</td>\n",
       "      <td>-1.620544e+00</td>\n",
       "      <td>-1.422479e+00</td>\n",
       "      <td>-1.299950e+00</td>\n",
       "      <td>-1.336901e+00</td>\n",
       "      <td>-1.478834e+00</td>\n",
       "      <td>-1.331212e+00</td>\n",
       "      <td>-1.223578e+00</td>\n",
       "      <td>-1.175129e+00</td>\n",
       "      <td>-3.405552e+00</td>\n",
       "    </tr>\n",
       "    <tr>\n",
       "      <th>25%</th>\n",
       "      <td>-8.769390e-01</td>\n",
       "      <td>-8.135608e-01</td>\n",
       "      <td>-9.152740e-01</td>\n",
       "      <td>-9.234559e-01</td>\n",
       "      <td>-7.744597e-01</td>\n",
       "      <td>-6.880132e-01</td>\n",
       "      <td>-6.824559e-01</td>\n",
       "      <td>-9.319392e-01</td>\n",
       "      <td>-7.071486e-01</td>\n",
       "      <td>-7.123828e-01</td>\n",
       "      <td>-6.915696e-01</td>\n",
       "      <td>-7.390277e-01</td>\n",
       "      <td>-4.311961e-01</td>\n",
       "    </tr>\n",
       "    <tr>\n",
       "      <th>50%</th>\n",
       "      <td>-1.324045e-01</td>\n",
       "      <td>-2.156901e-01</td>\n",
       "      <td>-1.254777e-01</td>\n",
       "      <td>-7.440602e-02</td>\n",
       "      <td>-8.833101e-02</td>\n",
       "      <td>-3.234369e-01</td>\n",
       "      <td>-1.401961e-01</td>\n",
       "      <td>-2.039306e-01</td>\n",
       "      <td>-2.938237e-01</td>\n",
       "      <td>-3.552385e-01</td>\n",
       "      <td>-3.342087e-01</td>\n",
       "      <td>-3.089175e-01</td>\n",
       "      <td>2.412533e-01</td>\n",
       "    </tr>\n",
       "    <tr>\n",
       "      <th>75%</th>\n",
       "      <td>6.619797e-01</td>\n",
       "      <td>5.097093e-01</td>\n",
       "      <td>6.132834e-01</td>\n",
       "      <td>6.073452e-01</td>\n",
       "      <td>5.848608e-01</td>\n",
       "      <td>2.874968e-01</td>\n",
       "      <td>3.214203e-01</td>\n",
       "      <td>7.728810e-01</td>\n",
       "      <td>5.169771e-01</td>\n",
       "      <td>3.944055e-01</td>\n",
       "      <td>4.864691e-01</td>\n",
       "      <td>4.440916e-01</td>\n",
       "      <td>7.513150e-01</td>\n",
       "    </tr>\n",
       "    <tr>\n",
       "      <th>max</th>\n",
       "      <td>2.897822e+00</td>\n",
       "      <td>4.471356e+00</td>\n",
       "      <td>2.605855e+00</td>\n",
       "      <td>2.637039e+00</td>\n",
       "      <td>2.714998e+00</td>\n",
       "      <td>3.223743e+00</td>\n",
       "      <td>4.220922e+00</td>\n",
       "      <td>4.377913e+00</td>\n",
       "      <td>4.073050e+00</td>\n",
       "      <td>3.792935e+00</td>\n",
       "      <td>4.428520e+00</td>\n",
       "      <td>3.479497e+00</td>\n",
       "      <td>1.176472e+00</td>\n",
       "    </tr>\n",
       "  </tbody>\n",
       "</table>\n",
       "</div>"
      ],
      "text/plain": [
       "            Alcohol    Malic_Acid           Ash  Ash_Alcanity     Magnesium  \\\n",
       "count  1.780000e+02  1.780000e+02  1.780000e+02  1.780000e+02  1.780000e+02   \n",
       "mean   1.609200e-16  1.097749e-16 -2.139362e-16 -1.035377e-16 -2.759965e-16   \n",
       "std    1.002821e+00  1.002821e+00  1.002821e+00  1.002821e+00  1.002821e+00   \n",
       "min   -1.578276e+00 -1.110345e+00 -1.545862e+00 -1.598474e+00 -1.620544e+00   \n",
       "25%   -8.769390e-01 -8.135608e-01 -9.152740e-01 -9.234559e-01 -7.744597e-01   \n",
       "50%   -1.324045e-01 -2.156901e-01 -1.254777e-01 -7.440602e-02 -8.833101e-02   \n",
       "75%    6.619797e-01  5.097093e-01  6.132834e-01  6.073452e-01  5.848608e-01   \n",
       "max    2.897822e+00  4.471356e+00  2.605855e+00  2.637039e+00  2.714998e+00   \n",
       "\n",
       "       Total_Phenols    Flavanoids  Nonflavanoid_Phenols  Proanthocyanins  \\\n",
       "count   1.780000e+02  1.780000e+02          1.780000e+02     1.780000e+02   \n",
       "mean    1.295780e-16  1.553065e-16         -1.571776e-16    -1.108859e-16   \n",
       "std     1.002821e+00  1.002821e+00          1.002821e+00     1.002821e+00   \n",
       "min    -1.422479e+00 -1.299950e+00         -1.336901e+00    -1.478834e+00   \n",
       "25%    -6.880132e-01 -6.824559e-01         -9.319392e-01    -7.071486e-01   \n",
       "50%    -3.234369e-01 -1.401961e-01         -2.039306e-01    -2.938237e-01   \n",
       "75%     2.874968e-01  3.214203e-01          7.728810e-01     5.169771e-01   \n",
       "max     3.223743e+00  4.220922e+00          4.377913e+00     4.073050e+00   \n",
       "\n",
       "       Color_Intensity           Hue         OD280       Proline  \n",
       "count     1.780000e+02  1.780000e+02  1.780000e+02  1.780000e+02  \n",
       "mean      1.921060e-16 -7.422278e-17  2.744372e-17  4.812006e-16  \n",
       "std       1.002821e+00  1.002821e+00  1.002821e+00  1.002821e+00  \n",
       "min      -1.331212e+00 -1.223578e+00 -1.175129e+00 -3.405552e+00  \n",
       "25%      -7.123828e-01 -6.915696e-01 -7.390277e-01 -4.311961e-01  \n",
       "50%      -3.552385e-01 -3.342087e-01 -3.089175e-01  2.412533e-01  \n",
       "75%       3.944055e-01  4.864691e-01  4.440916e-01  7.513150e-01  \n",
       "max       3.792935e+00  4.428520e+00  3.479497e+00  1.176472e+00  "
      ]
     },
     "execution_count": 49,
     "metadata": {},
     "output_type": "execute_result"
    }
   ],
   "source": [
    "from sklearn.preprocessing import StandardScaler\n",
    "scalar = StandardScaler()\n",
    "scaled_data = scalar.fit_transform(data1)\n",
    "scaled_data = pd.DataFrame(scaled_data, columns = data1.columns)\n",
    "scaled_data.describe()"
   ]
  },
  {
   "cell_type": "code",
   "execution_count": 50,
   "id": "1f107046",
   "metadata": {},
   "outputs": [
    {
     "name": "stdout",
     "output_type": "stream",
     "text": [
      "Number of Principal Components to explain 95% variance = 10\n"
     ]
    }
   ],
   "source": [
    "from sklearn.decomposition import PCA\n",
    "pca = PCA(n_components= 0.95)\n",
    "pca.fit(data2)\n",
    "pcaData = pca.transform(data1)\n",
    "print(f'Number of Principal Components to explain 95% variance = {pca.n_components_}')"
   ]
  },
  {
   "cell_type": "code",
   "execution_count": 53,
   "id": "c61c7788",
   "metadata": {},
   "outputs": [
    {
     "data": {
      "image/png": "[encoded data removed]",
      "text/plain": [
       "<Figure size 1008x576 with 1 Axes>"
      ]
     },
     "metadata": {
      "needs_background": "light"
     },
     "output_type": "display_data"
    }
   ],
   "source": [
    "plt.figure(figsize = (14, 8))\n",
    "x = np.arange(1, pca.n_components_+1 , step = 1)\n",
    "y = np.cumsum(pca.explained_variance_ratio_)\n",
    "plt.plot(x, y, marker = \"o\", linestyle = \"--\", color = \"b\")\n",
    "# horizontal line for 95% cutoff threshold\n",
    "plt.axhline(y = 0.95, color = 'r', linestyle = \"-\")\n",
    "plt.text(1.2, 0.93, \"95% cut-off threshold\", color = 'b', fontsize = 14)\n",
    "plt.xticks(x)\n",
    "plt.grid(axis = 'x')\n",
    "plt.xlabel('Number of Components')\n",
    "plt.ylabel('Cumulative Variance (%)')\n",
    "plt.title(\"Components vs Explained Variance\")\n",
    "plt.show()"
   ]
  },
  {
   "cell_type": "code",
   "execution_count": 54,
   "id": "f859c679",
   "metadata": {},
   "outputs": [
    {
     "data": {
      "text/plain": [
       "array([0.36198848, 0.1920749 , 0.11123631, 0.0706903 , 0.06563294,\n",
       "       0.04935823, 0.04238679, 0.02680749, 0.02222153, 0.01930019])"
      ]
     },
     "execution_count": 54,
     "metadata": {},
     "output_type": "execute_result"
    }
   ],
   "source": [
    "pca.explained_variance_ratio_"
   ]
  },
  {
   "cell_type": "markdown",
   "id": "f436b52b",
   "metadata": {},
   "source": [
    "The first principal component explains 36.19% of the total variations in the dataset. The second principal component explains 19.20% of the total variations. The third principal component explains 11.12% of the total variations and so on."
   ]
  },
  {
   "cell_type": "code",
   "execution_count": null,
   "id": "b8d39187",
   "metadata": {},
   "outputs": [],
   "source": []
  }
 ],
 "metadata": {
  "kernelspec": {
   "display_name": "Python 3",
   "language": "python",
   "name": "python3"
  },
  "language_info": {
   "codemirror_mode": {
    "name": "ipython",
    "version": 3
   },
   "file_extension": ".py",
   "mimetype": "text/x-python",
   "name": "python",
   "nbconvert_exporter": "python",
   "pygments_lexer": "ipython3",
   "version": "3.8.8"
  }
 },
 "nbformat": 4,
 "nbformat_minor": 5
}
